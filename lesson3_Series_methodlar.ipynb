{
  "nbformat": 4,
  "nbformat_minor": 0,
  "metadata": {
    "colab": {
      "provenance": [],
      "authorship_tag": "ABX9TyMY/4JExbieHWGUc0w4ssz5",
      "include_colab_link": true
    },
    "kernelspec": {
      "name": "python3",
      "display_name": "Python 3"
    },
    "language_info": {
      "name": "python"
    }
  },
  "cells": [
    {
      "cell_type": "markdown",
      "metadata": {
        "id": "view-in-github",
        "colab_type": "text"
      },
      "source": [
        "<a href=\"https://colab.research.google.com/github/AbdulxoliqMirzayev/PandasLibrary/blob/main/lesson3_Series_methodlar.ipynb\" target=\"_parent\"><img src=\"https://colab.research.google.com/assets/colab-badge.svg\" alt=\"Open In Colab\"/></a>"
      ]
    },
    {
      "cell_type": "code",
      "execution_count": 2,
      "metadata": {
        "id": "4oGOA7UW9weP"
      },
      "outputs": [],
      "source": [
        "import pandas as pd\n",
        "import numpy as np\n",
        "from pandas import Series, DataFrame as df # DataFrameni qisqacha qilib df deb chariqib oldik"
      ]
    },
    {
      "cell_type": "code",
      "source": [
        "\n",
        "cars={'Malibu':40000, 'Lacetti':20000, 'Toyota':45000,'Mazda':52000,'Honda':38000}\n",
        "models = ['Honda','Mazda','Lacetti','Jaguar', 'Malibu', 'Toyota']\n"
      ],
      "metadata": {
        "id": "HpNGSRQj-cDB"
      },
      "execution_count": 6,
      "outputs": []
    },
    {
      "cell_type": "code",
      "source": [
        "cars2 = Series(cars, index = models)"
      ],
      "metadata": {
        "id": "Iz5LWHEe-yT4"
      },
      "execution_count": 7,
      "outputs": []
    },
    {
      "cell_type": "code",
      "source": [
        "cars2"
      ],
      "metadata": {
        "colab": {
          "base_uri": "https://localhost:8080/"
        },
        "id": "64RoDXtI_DRP",
        "outputId": "de55f1b0-3480-4957-b569-b1a04fea9ba8"
      },
      "execution_count": 8,
      "outputs": [
        {
          "output_type": "execute_result",
          "data": {
            "text/plain": [
              "Honda      38000.0\n",
              "Mazda      52000.0\n",
              "Lacetti    20000.0\n",
              "Jaguar         NaN\n",
              "Malibu     40000.0\n",
              "Toyota     45000.0\n",
              "dtype: float64"
            ]
          },
          "metadata": {},
          "execution_count": 8
        }
      ]
    },
    {
      "cell_type": "code",
      "source": [
        "cars2.isnull()"
      ],
      "metadata": {
        "colab": {
          "base_uri": "https://localhost:8080/"
        },
        "id": "DrK7N3xB-C8h",
        "outputId": "4d69388d-9ce0-4179-c30d-8b548fef1a09"
      },
      "execution_count": 9,
      "outputs": [
        {
          "output_type": "execute_result",
          "data": {
            "text/plain": [
              "Honda      False\n",
              "Mazda      False\n",
              "Lacetti    False\n",
              "Jaguar      True\n",
              "Malibu     False\n",
              "Toyota     False\n",
              "dtype: bool"
            ]
          },
          "metadata": {},
          "execution_count": 9
        }
      ]
    },
    {
      "cell_type": "code",
      "source": [
        "cars2.notnull()"
      ],
      "metadata": {
        "colab": {
          "base_uri": "https://localhost:8080/"
        },
        "id": "afy8gJHR_EhS",
        "outputId": "4b334a5a-7941-4fcd-d8b3-173f1babc476"
      },
      "execution_count": 10,
      "outputs": [
        {
          "output_type": "execute_result",
          "data": {
            "text/plain": [
              "Honda       True\n",
              "Mazda       True\n",
              "Lacetti     True\n",
              "Jaguar     False\n",
              "Malibu      True\n",
              "Toyota      True\n",
              "dtype: bool"
            ]
          },
          "metadata": {},
          "execution_count": 10
        }
      ]
    },
    {
      "cell_type": "code",
      "source": [
        "cars1 = Series(cars)\n",
        "cars1"
      ],
      "metadata": {
        "colab": {
          "base_uri": "https://localhost:8080/"
        },
        "id": "x4r97pog_bKx",
        "outputId": "db9e837d-7036-44e4-f471-7c7f70495bae"
      },
      "execution_count": 11,
      "outputs": [
        {
          "output_type": "execute_result",
          "data": {
            "text/plain": [
              "Malibu     40000\n",
              "Lacetti    20000\n",
              "Toyota     45000\n",
              "Mazda      52000\n",
              "Honda      38000\n",
              "dtype: int64"
            ]
          },
          "metadata": {},
          "execution_count": 11
        }
      ]
    },
    {
      "cell_type": "code",
      "source": [
        "cars1+cars2"
      ],
      "metadata": {
        "colab": {
          "base_uri": "https://localhost:8080/"
        },
        "id": "PZy4Abh1_6XO",
        "outputId": "8dbccb42-4aad-416e-eb3e-50267fb004d2"
      },
      "execution_count": 12,
      "outputs": [
        {
          "output_type": "execute_result",
          "data": {
            "text/plain": [
              "Honda       76000.0\n",
              "Jaguar          NaN\n",
              "Lacetti     40000.0\n",
              "Malibu      80000.0\n",
              "Mazda      104000.0\n",
              "Toyota      90000.0\n",
              "dtype: float64"
            ]
          },
          "metadata": {},
          "execution_count": 12
        }
      ]
    },
    {
      "cell_type": "code",
      "source": [
        "cars2.name='Avtosalon'\n",
        "cars2.index.name='Modellar'\n",
        "cars2"
      ],
      "metadata": {
        "colab": {
          "base_uri": "https://localhost:8080/"
        },
        "id": "lsCnYsGR_-XH",
        "outputId": "02bc4d21-2b21-4fbc-8cf5-01522f6b1d3d"
      },
      "execution_count": 13,
      "outputs": [
        {
          "output_type": "execute_result",
          "data": {
            "text/plain": [
              "Modellar\n",
              "Honda      38000.0\n",
              "Mazda      52000.0\n",
              "Lacetti    20000.0\n",
              "Jaguar         NaN\n",
              "Malibu     40000.0\n",
              "Toyota     45000.0\n",
              "Name: Avtosalon, dtype: float64"
            ]
          },
          "metadata": {},
          "execution_count": 13
        }
      ]
    },
    {
      "cell_type": "code",
      "source": [
        "cars2.hasnans # NaN qiymatlari bor yoqligini tekshiradi"
      ],
      "metadata": {
        "colab": {
          "base_uri": "https://localhost:8080/"
        },
        "id": "dulVutBOAUAL",
        "outputId": "b074e312-0507-4992-ade9-6dc76a545f6e"
      },
      "execution_count": 14,
      "outputs": [
        {
          "output_type": "execute_result",
          "data": {
            "text/plain": [
              "True"
            ]
          },
          "metadata": {},
          "execution_count": 14
        }
      ]
    },
    {
      "cell_type": "code",
      "source": [
        "cars2.iloc[2] #malumotlarga index tartibi boyicha murojat etish"
      ],
      "metadata": {
        "colab": {
          "base_uri": "https://localhost:8080/"
        },
        "id": "UtHB_b-6BMEV",
        "outputId": "4970dd42-fbe5-4f53-9345-50af4ba0ce5f"
      },
      "execution_count": 15,
      "outputs": [
        {
          "output_type": "execute_result",
          "data": {
            "text/plain": [
              "20000.0"
            ]
          },
          "metadata": {},
          "execution_count": 15
        }
      ]
    },
    {
      "cell_type": "code",
      "source": [
        "cars2.mean() #ortacha qiymat qaytaradi"
      ],
      "metadata": {
        "colab": {
          "base_uri": "https://localhost:8080/"
        },
        "id": "a3MGCAH6BbBa",
        "outputId": "09d34c96-5aea-44ad-97d5-dc0849fc8805"
      },
      "execution_count": 16,
      "outputs": [
        {
          "output_type": "execute_result",
          "data": {
            "text/plain": [
              "39000.0"
            ]
          },
          "metadata": {},
          "execution_count": 16
        }
      ]
    },
    {
      "cell_type": "code",
      "source": [
        "cars2.min() # minimum qiymat"
      ],
      "metadata": {
        "colab": {
          "base_uri": "https://localhost:8080/"
        },
        "id": "ElbusIlqBlJX",
        "outputId": "1d77892f-26d4-44ad-f020-8334e735d185"
      },
      "execution_count": 17,
      "outputs": [
        {
          "output_type": "execute_result",
          "data": {
            "text/plain": [
              "20000.0"
            ]
          },
          "metadata": {},
          "execution_count": 17
        }
      ]
    },
    {
      "cell_type": "code",
      "source": [
        "cars2.max() #maximum qiymat"
      ],
      "metadata": {
        "colab": {
          "base_uri": "https://localhost:8080/"
        },
        "id": "iT80_zncDIqj",
        "outputId": "b39d5537-7d42-43b2-945a-6c9ad48e95a2"
      },
      "execution_count": 18,
      "outputs": [
        {
          "output_type": "execute_result",
          "data": {
            "text/plain": [
              "52000.0"
            ]
          },
          "metadata": {},
          "execution_count": 18
        }
      ]
    },
    {
      "cell_type": "code",
      "source": [
        "cars2.loc['Toyota'] # datalarga index bo'yicha murojat qilish"
      ],
      "metadata": {
        "colab": {
          "base_uri": "https://localhost:8080/"
        },
        "id": "L_3MGpBoDMuv",
        "outputId": "f2ff54bb-f141-454a-ba2c-aa129eb7dcd1"
      },
      "execution_count": 20,
      "outputs": [
        {
          "output_type": "execute_result",
          "data": {
            "text/plain": [
              "45000.0"
            ]
          },
          "metadata": {},
          "execution_count": 20
        }
      ]
    },
    {
      "cell_type": "code",
      "source": [
        "cars2['Honda'] #  to do datas according to appeal datalarga index boyich murojat qilish"
      ],
      "metadata": {
        "colab": {
          "base_uri": "https://localhost:8080/"
        },
        "id": "9kFd3n0NDSoC",
        "outputId": "9a64bb81-a048-48e7-f8db-a22800264003"
      },
      "execution_count": 21,
      "outputs": [
        {
          "output_type": "execute_result",
          "data": {
            "text/plain": [
              "38000.0"
            ]
          },
          "metadata": {},
          "execution_count": 21
        }
      ]
    },
    {
      "cell_type": "code",
      "source": [
        "cars2.iloc[-1] # tartib raqam boyicha murojat qiladi"
      ],
      "metadata": {
        "colab": {
          "base_uri": "https://localhost:8080/"
        },
        "id": "_tauK_c7ELNU",
        "outputId": "df83be40-59a1-449f-a8cc-949d7069ba5c"
      },
      "execution_count": 23,
      "outputs": [
        {
          "output_type": "execute_result",
          "data": {
            "text/plain": [
              "45000.0"
            ]
          },
          "metadata": {},
          "execution_count": 23
        }
      ]
    },
    {
      "cell_type": "code",
      "source": [
        "cars2.size #Series hajmi"
      ],
      "metadata": {
        "colab": {
          "base_uri": "https://localhost:8080/"
        },
        "id": "t7MkmT6gEPrd",
        "outputId": "87634f96-f4f5-499a-b5cc-e85a23c13dc2"
      },
      "execution_count": 24,
      "outputs": [
        {
          "output_type": "execute_result",
          "data": {
            "text/plain": [
              "6"
            ]
          },
          "metadata": {},
          "execution_count": 24
        }
      ]
    },
    {
      "cell_type": "code",
      "source": [
        "cars2.shape # series hajmi"
      ],
      "metadata": {
        "colab": {
          "base_uri": "https://localhost:8080/"
        },
        "id": "r-ll39NeEcT6",
        "outputId": "16256b6f-b3c8-48e4-a8c7-cfb6f2ff622e"
      },
      "execution_count": 25,
      "outputs": [
        {
          "output_type": "execute_result",
          "data": {
            "text/plain": [
              "(6,)"
            ]
          },
          "metadata": {},
          "execution_count": 25
        }
      ]
    },
    {
      "cell_type": "code",
      "source": [
        "cars2.is_unique # qiymatlar takrorlanmas ekanini tekshiradi"
      ],
      "metadata": {
        "colab": {
          "base_uri": "https://localhost:8080/"
        },
        "id": "Wvka5RAlEi9J",
        "outputId": "1a37653c-7e07-42c7-f914-c88beb34d969"
      },
      "execution_count": 27,
      "outputs": [
        {
          "output_type": "execute_result",
          "data": {
            "text/plain": [
              "True"
            ]
          },
          "metadata": {},
          "execution_count": 27
        }
      ]
    },
    {
      "cell_type": "code",
      "source": [
        "cars2.dtype # qiymatlarning malumot turi"
      ],
      "metadata": {
        "colab": {
          "base_uri": "https://localhost:8080/"
        },
        "id": "Gk574VDwEuK-",
        "outputId": "1c007a01-4d33-4c9a-bab7-b26fbc17bd28"
      },
      "execution_count": 28,
      "outputs": [
        {
          "output_type": "execute_result",
          "data": {
            "text/plain": [
              "dtype('float64')"
            ]
          },
          "metadata": {},
          "execution_count": 28
        }
      ]
    },
    {
      "cell_type": "code",
      "source": [],
      "metadata": {
        "id": "leCRikLLE3FQ"
      },
      "execution_count": null,
      "outputs": []
    }
  ]
}